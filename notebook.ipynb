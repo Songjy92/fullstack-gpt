{
 "cells": [
  {
   "cell_type": "code",
   "execution_count": 1,
   "metadata": {},
   "outputs": [],
   "source": [
    "from langchain.chat_models import ChatOpenAI\n",
    "from langchain.prompts import ChatPromptTemplate\n",
    "from langchain.callbacks import StreamingStdOutCallbackHandler\n",
    "\n",
    "\n",
    "chat = ChatOpenAI(model=\"gpt-3.5-turbo\" ,temperature=0.1, streaming=True, callbacks=[StreamingStdOutCallbackHandler()])\n"
   ]
  },
  {
   "cell_type": "code",
   "execution_count": null,
   "metadata": {},
   "outputs": [],
   "source": [
    "# Code sample without chain \n",
    "# prompt = template.format_messages(\n",
    "#     max_item = 10,\n",
    "#     question = \"Whare are the planets?\"\n",
    "# )\n",
    "# result = chat.predict_messages(prompt)\n",
    "# p = CommaOutputParser()\n",
    "# p.parse(result.content)"
   ]
  },
  {
   "cell_type": "code",
   "execution_count": 2,
   "metadata": {},
   "outputs": [],
   "source": [
    "poetry_prompt = ChatPromptTemplate.from_messages([\n",
    "    (\"system\", \"You are a creative poetry to write about programming languages. Your task is to craft poetic verses that capture the essence, characteristics, and unique qualities of various programming languages.\"),\n",
    "    (\"human\", \"Create a poem about {language}\"),\n",
    "])\n",
    "\n",
    "\n",
    "poetry_chain = poetry_prompt | chat"
   ]
  },
  {
   "cell_type": "code",
   "execution_count": 3,
   "metadata": {},
   "outputs": [],
   "source": [
    "commentator_prompt = ChatPromptTemplate.from_messages([\n",
    "    (\"system\", \"You are a thoughtful and insightful AI designed to analyze and explain poetry. Your role is to provide clear, detailed explanations of poems, breaking down their structure, themes, literary devices, and the emotions or ideas they convey.\"),\n",
    "    (\"human\", \"Read the following poem and provide a detailed explanation. : {poem}\"),\n",
    "])\n",
    "\n",
    "commentator_chain = commentator_prompt | chat"
   ]
  },
  {
   "cell_type": "code",
   "execution_count": 4,
   "metadata": {},
   "outputs": [
    {
     "name": "stdout",
     "output_type": "stream",
     "text": [
      "In the land of code, where serpents slither,\n",
      "Python reigns, a language that whispers.\n",
      "Its syntax sleek, like a snake in the grass,\n",
      "Elegant and clean, with no need to amass.\n",
      "\n",
      "Indents and colons, its rhythm and rhyme,\n",
      "Flowing like a river, through space and time.\n",
      "Dynamic and versatile, it dances with ease,\n",
      "A language of power, that aims to please.\n",
      "\n",
      "From web development to data science's art,\n",
      "Python weaves its magic, straight from the heart.\n",
      "With libraries galore, and functions so grand,\n",
      "It's a language of choice, across the land.\n",
      "\n",
      "So raise a toast to Python, the language divine,\n",
      "Where simplicity shines, and complexities align.\n",
      "In the world of programming, it stands tall and true,\n",
      "A language of beauty, forever anew.This poem is an ode to the programming language Python, using vivid imagery and poetic language to describe its characteristics and significance in the world of coding. Let's break down the poem stanza by stanza to understand its structure and themes:\n",
      "\n",
      "Stanza 1:\n",
      "\"In the land of code, where serpents slither,\n",
      "Python reigns, a language that whispers.\n",
      "Its syntax sleek, like a snake in the grass,\n",
      "Elegant and clean, with no need to amass.\"\n",
      "\n",
      "In the opening stanza, the poet sets the scene in the \"land of code\" where Python is depicted as a reigning entity with a subtle and smooth presence. The comparison of Python's syntax to a snake in the grass conveys a sense of elegance and efficiency, highlighting its simplicity and lack of unnecessary complexity.\n",
      "\n",
      "Stanza 2:\n",
      "\"Indents and colons, its rhythm and rhyme,\n",
      "Flowing like a river, through space and time.\n",
      "Dynamic and versatile, it dances with ease,\n",
      "A language of power, that aims to please.\"\n",
      "\n",
      "Here, the poem delves into the technical aspects of Python, mentioning its distinctive features like indents and colons that give it a structured flow. The language is described as dynamic, versatile, and powerful, capable of adapting to various tasks effortlessly. The use of imagery comparing Python's flow to a river emphasizes its fluidity and adaptability.\n",
      "\n",
      "Stanza 3:\n",
      "\"From web development to data science's art,\n",
      "Python weaves its magic, straight from the heart.\n",
      "With libraries galore, and functions so grand,\n",
      "It's a language of choice, across the land.\"\n",
      "\n",
      "This stanza highlights the wide range of applications for Python, from web development to data science. The language is portrayed as magical and heartfelt, suggesting a deep connection and passion for its use. The mention of libraries and functions underscores Python's rich ecosystem and functionality, making it a popular choice for programmers worldwide.\n",
      "\n",
      "Stanza 4:\n",
      "\"So raise a toast to Python, the language divine,\n",
      "Where simplicity shines, and complexities align.\n",
      "In the world of programming, it stands tall and true,\n",
      "A language of beauty, forever anew.\"\n",
      "\n",
      "In the final stanza, the poet celebrates Python as a divine language where simplicity and complexity coexist harmoniously. Python is praised for its beauty and enduring relevance in the ever-evolving world of programming. The poem concludes with a sense of admiration and reverence for Python's enduring qualities.\n",
      "\n",
      "Overall, this poem effectively captures the essence of Python as a versatile, elegant, and powerful programming language through vivid imagery and lyrical language. It celebrates Python's unique characteristics and its significance in the realm of coding, appealing to both programmers and poetry enthusiasts alike."
     ]
    },
    {
     "data": {
      "text/plain": [
       "AIMessageChunk(content='This poem is an ode to the programming language Python, using vivid imagery and poetic language to describe its characteristics and significance in the world of coding. Let\\'s break down the poem stanza by stanza to understand its structure and themes:\\n\\nStanza 1:\\n\"In the land of code, where serpents slither,\\nPython reigns, a language that whispers.\\nIts syntax sleek, like a snake in the grass,\\nElegant and clean, with no need to amass.\"\\n\\nIn the opening stanza, the poet sets the scene in the \"land of code\" where Python is depicted as a reigning entity with a subtle and smooth presence. The comparison of Python\\'s syntax to a snake in the grass conveys a sense of elegance and efficiency, highlighting its simplicity and lack of unnecessary complexity.\\n\\nStanza 2:\\n\"Indents and colons, its rhythm and rhyme,\\nFlowing like a river, through space and time.\\nDynamic and versatile, it dances with ease,\\nA language of power, that aims to please.\"\\n\\nHere, the poem delves into the technical aspects of Python, mentioning its distinctive features like indents and colons that give it a structured flow. The language is described as dynamic, versatile, and powerful, capable of adapting to various tasks effortlessly. The use of imagery comparing Python\\'s flow to a river emphasizes its fluidity and adaptability.\\n\\nStanza 3:\\n\"From web development to data science\\'s art,\\nPython weaves its magic, straight from the heart.\\nWith libraries galore, and functions so grand,\\nIt\\'s a language of choice, across the land.\"\\n\\nThis stanza highlights the wide range of applications for Python, from web development to data science. The language is portrayed as magical and heartfelt, suggesting a deep connection and passion for its use. The mention of libraries and functions underscores Python\\'s rich ecosystem and functionality, making it a popular choice for programmers worldwide.\\n\\nStanza 4:\\n\"So raise a toast to Python, the language divine,\\nWhere simplicity shines, and complexities align.\\nIn the world of programming, it stands tall and true,\\nA language of beauty, forever anew.\"\\n\\nIn the final stanza, the poet celebrates Python as a divine language where simplicity and complexity coexist harmoniously. Python is praised for its beauty and enduring relevance in the ever-evolving world of programming. The poem concludes with a sense of admiration and reverence for Python\\'s enduring qualities.\\n\\nOverall, this poem effectively captures the essence of Python as a versatile, elegant, and powerful programming language through vivid imagery and lyrical language. It celebrates Python\\'s unique characteristics and its significance in the realm of coding, appealing to both programmers and poetry enthusiasts alike.')"
      ]
     },
     "execution_count": 4,
     "metadata": {},
     "output_type": "execute_result"
    }
   ],
   "source": [
    "final_chain = {\"poem\": poetry_chain} | commentator_chain\n",
    "\n",
    "final_chain.invoke({\"language\": \"python\"})"
   ]
  }
 ],
 "metadata": {
  "kernelspec": {
   "display_name": "env",
   "language": "python",
   "name": "python3"
  },
  "language_info": {
   "codemirror_mode": {
    "name": "ipython",
    "version": 3
   },
   "file_extension": ".py",
   "mimetype": "text/x-python",
   "name": "python",
   "nbconvert_exporter": "python",
   "pygments_lexer": "ipython3",
   "version": "3.9.13"
  }
 },
 "nbformat": 4,
 "nbformat_minor": 2
}
