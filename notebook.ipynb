{
 "cells": [
  {
   "cell_type": "code",
   "execution_count": 1,
   "metadata": {},
   "outputs": [],
   "source": [
    "from langchain.chat_models import ChatOpenAI\n",
    "from langchain.prompts import ChatPromptTemplate\n",
    "from langchain.prompts.few_shot import FewShotChatMessagePromptTemplate\n",
    "from langchain.callbacks import StreamingStdOutCallbackHandler\n",
    "from langchain.prompts import ChatPromptTemplate, MessagesPlaceholder\n",
    "\n",
    "#[example] Load prompt from .json or .yaml files\n",
    "#prompt = load_prompt(\"./prompt.json\")\n",
    "#prompt = load_prompt(\"./prompt.yaml\")\n",
    "from langchain.schema.runnable import RunnablePassthrough\n",
    "from langchain.memory import ConversationSummaryBufferMemory\n",
    "\n",
    "llm = ChatOpenAI(model = \"gpt-3.5-turbo-0125\", temperature=0.1)"
   ]
  },
  {
   "cell_type": "code",
   "execution_count": 2,
   "metadata": {},
   "outputs": [],
   "source": [
    "movie_emoji_examples = [\n",
    "    {\n",
    "        \"title\": \"Inside Out 2\",\n",
    "        \"answer\": \"\"\"😀😭🏒\"\"\",\n",
    "    },\n",
    "    {\n",
    "        \"title\": \"Twisters\",\n",
    "        \"answer\": \"\"\"🌎🌪👓\"\"\",\n",
    "    },\n",
    "    {\n",
    "        \"title\": \"The Dark Knight\",\n",
    "        \"answer\": \"\"\"🦇👮🤡\"\"\",\n",
    "    },\n",
    "]\n"
   ]
  },
  {
   "cell_type": "code",
   "execution_count": 7,
   "metadata": {},
   "outputs": [],
   "source": [
    "memory = ConversationSummaryBufferMemory(\n",
    "    llm=llm,\n",
    "    max_token_limit=100,\n",
    "    return_messages=True,\n",
    ")\n",
    "\n",
    "example_prompt = ChatPromptTemplate.from_messages(\n",
    "    [\n",
    "        (\"human\", \"Please give me only 3 emojis that represent the movie {title}\"),\n",
    "        (\"ai\", \"{answer}\"),\n",
    "    ]\n",
    ")\n",
    "\n",
    "example_prompt = FewShotChatMessagePromptTemplate(\n",
    "    example_prompt=example_prompt,\n",
    "    examples=movie_emoji_examples,\n",
    ")\n",
    "\n",
    "final_prompt = ChatPromptTemplate.from_messages(\n",
    "    [\n",
    "        (\"system\", \"You are a movie expert, you can represent the movie with only three emojis\"),\n",
    "        MessagesPlaceholder(variable_name=\"history\"),\n",
    "        example_prompt,\n",
    "        (\"human\", \"{question}\"),\n",
    "    ]\n",
    ")\n",
    "\n",
    "def load_memory(_):\n",
    "    return memory.load_memory_variables({})[\"history\"]\n",
    "\n",
    "chain = RunnablePassthrough.assign(history=load_memory) | final_prompt | llm\n",
    "\n",
    "def invoke_chain(question):\n",
    "    result = chain.invoke({\"question\": question})\n",
    "    memory.save_context(\n",
    "        {\"input\":question},\n",
    "        {\"output\": result.content},\n",
    "    )\n",
    "    print(result)"
   ]
  },
  {
   "cell_type": "code",
   "execution_count": 8,
   "metadata": {},
   "outputs": [
    {
     "name": "stdout",
     "output_type": "stream",
     "text": [
      "content='🏃🍫🎸'\n"
     ]
    }
   ],
   "source": [
    "invoke_chain(\"Forrest Gump\")"
   ]
  },
  {
   "cell_type": "code",
   "execution_count": 9,
   "metadata": {},
   "outputs": [
    {
     "name": "stdout",
     "output_type": "stream",
     "text": [
      "content='🦸\\u200d♂️💥🌌'\n"
     ]
    }
   ],
   "source": [
    "invoke_chain(\"Avengers\")"
   ]
  },
  {
   "cell_type": "code",
   "execution_count": 10,
   "metadata": {},
   "outputs": [
    {
     "name": "stdout",
     "output_type": "stream",
     "text": [
      "content='The title of the movie you asked first is \"Forrest Gump.\"'\n"
     ]
    }
   ],
   "source": [
    "invoke_chain(\"What is the title of the movie I asked first?\")"
   ]
  },
  {
   "cell_type": "markdown",
   "metadata": {},
   "source": [
    "### Movie explain chatbot\n"
   ]
  },
  {
   "cell_type": "code",
   "execution_count": 8,
   "metadata": {},
   "outputs": [],
   "source": [
    "movie_examples = [\n",
    "    {\n",
    "        \"title\": \"Inside Out 2\",\n",
    "        \"answer\": \"\"\"\n",
    "        The Brief information about the movie Inside Out 2 is as below:\n",
    "        Director: Kelsey Mann\n",
    "        Main cast: Amy Poehler, Maya Hawke, Kensington Tallman\n",
    "        Budget: $200,000,000\n",
    "        Revenue : $1,649,599,772\n",
    "        Genres: Animation, Family\n",
    "        Rating: 77%\n",
    "        Keywords: emotions, joy, sadness, sequel, teenage girl\n",
    "        \"\"\",\n",
    "    },\n",
    "    {\n",
    "        \"title\": \"Twisters\",\n",
    "        \"answer\": \"\"\"\n",
    "        The Brief information about the movie Twisters is as below:\n",
    "        Director: Lee Isaac Chung\n",
    "        Main cast: Daisy Edgar-Jones, Glen Powell, Anthony Ramos\n",
    "        Budget: $155,000,000\n",
    "        Revenue : $347,273,990\n",
    "        Genres: Action, Adventure\n",
    "        Rating: 70%\n",
    "        Keywords: tornado, twister, climate, weather, natural disaster\n",
    "        \"\"\",\n",
    "    },\n",
    "    {\n",
    "        \"title\": \"The Dark Knight\",\n",
    "        \"answer\": \"\"\"\n",
    "        The Brief information about the movie The Dark Knight is as below:\n",
    "        Director: Christopher Nolan\n",
    "        Main cast: Christian Bale, Heath Ledger, Michael Caine\n",
    "        Budget: $185,000,000\n",
    "        Revenue : $1,004,558,444\n",
    "        Genres: Drama, Action\n",
    "        Rating: 85%\n",
    "        Keywords: superhero, crime fighter, secret identity, anti hero, joker\n",
    "        \"\"\",\n",
    "    },\n",
    "    {\n",
    "        \"title\": \"Parasite\",\n",
    "        \"answer\": \"\"\"\n",
    "        The Brief information about the movie Parasite is as below:\n",
    "        Director: Bong Joon-ho\n",
    "        Main cast: Song Kang-ho, Lee Sun-kyun, Cho Yeo-jeong\n",
    "        Budget: $11,363,000\n",
    "        Revenue : $257,591,776\n",
    "        Genres: Comedy, Thriller\n",
    "        Rating: 85%\n",
    "        Keywords: class differences, dark comedy, unemployed, family, south korea\n",
    "        \"\"\",\n",
    "    },\n",
    "]\n"
   ]
  },
  {
   "cell_type": "code",
   "execution_count": 9,
   "metadata": {},
   "outputs": [
    {
     "name": "stdout",
     "output_type": "stream",
     "text": [
      "\n",
      "        The Brief information about the movie Forrest Gump is as below:\n",
      "        Director: Robert Zemeckis\n",
      "        Main cast: Tom Hanks, Robin Wright, Gary Sinise\n",
      "        Budget: $55,000,000\n",
      "        Revenue : $678,226,247\n",
      "        Genres: Drama, Romance\n",
      "        Rating: 88%\n",
      "        Keywords: historical events, slow-witted, love story, vietnam war, feather\n",
      "        "
     ]
    },
    {
     "data": {
      "text/plain": [
       "AIMessageChunk(content='\\n        The Brief information about the movie Forrest Gump is as below:\\n        Director: Robert Zemeckis\\n        Main cast: Tom Hanks, Robin Wright, Gary Sinise\\n        Budget: $55,000,000\\n        Revenue : $678,226,247\\n        Genres: Drama, Romance\\n        Rating: 88%\\n        Keywords: historical events, slow-witted, love story, vietnam war, feather\\n        ')"
      ]
     },
     "execution_count": 9,
     "metadata": {},
     "output_type": "execute_result"
    }
   ],
   "source": [
    "chat = ChatOpenAI(model = \"gpt-3.5-turbo-0125\", temperature=0.1, streaming=True)\n",
    "example_prompt = ChatPromptTemplate.from_messages(\n",
    "    [\n",
    "        (\"human\", \"Could you give me an information about the movie {title}?\"),\n",
    "        (\"ai\", \"{answer}\"),\n",
    "    ]\n",
    ")\n",
    "\n",
    "example_prompt = FewShotChatMessagePromptTemplate(\n",
    "    example_prompt=example_prompt,\n",
    "    examples=movie_examples,\n",
    ")\n",
    "\n",
    "final_prompt = ChatPromptTemplate.from_messages(\n",
    "    [\n",
    "        (\"system\", \"You are a movie expert, please give me an answer based on the in the same format as the examples.\"),\n",
    "        example_prompt,\n",
    "        (\"human\", \"Could you give me an information about the movie {title}?\"),\n",
    "    ]\n",
    ")\n",
    "\n",
    "chain = final_prompt | chat\n",
    "\n",
    "chain.invoke({\"title\": \"Forrest Gump\"})"
   ]
  },
  {
   "cell_type": "code",
   "execution_count": null,
   "metadata": {},
   "outputs": [],
   "source": [
    "# Code sample without chain \n",
    "# prompt = template.format_messages(\n",
    "#     max_item = 10,\n",
    "#     question = \"Whare are the planets?\"\n",
    "# )\n",
    "# result = chat.predict_messages(prompt)\n",
    "# p = CommaOutputParser()\n",
    "# p.parse(result.content)"
   ]
  },
  {
   "cell_type": "code",
   "execution_count": 6,
   "metadata": {},
   "outputs": [],
   "source": [
    "poetry_prompt = ChatPromptTemplate.from_messages([\n",
    "    (\"system\", \"You are a creative poetry to write about programming languages. Your task is to craft poetic verses that capture the essence, characteristics, and unique qualities of various programming languages.\"),\n",
    "    (\"human\", \"Create a poem about {language}\"),\n",
    "])\n",
    "\n",
    "\n",
    "poetry_chain = poetry_prompt | chat"
   ]
  },
  {
   "cell_type": "code",
   "execution_count": 7,
   "metadata": {},
   "outputs": [],
   "source": [
    "commentator_prompt = ChatPromptTemplate.from_messages([\n",
    "    (\"system\", \"You are a thoughtful and insightful AI designed to analyze and explain poetry. Your role is to provide clear, detailed explanations of poems, breaking down their structure, themes, literary devices, and the emotions or ideas they convey.\"),\n",
    "    (\"human\", \"Read the following poem and provide a detailed explanation. : {poem}\"),\n",
    "])\n",
    "\n",
    "commentator_chain = commentator_prompt | chat"
   ]
  },
  {
   "cell_type": "code",
   "execution_count": null,
   "metadata": {},
   "outputs": [],
   "source": [
    "final_chain = {\"poem\": poetry_chain} | commentator_chain\n",
    "\n",
    "final_chain.invoke({\"language\": \"python\"})"
   ]
  }
 ],
 "metadata": {
  "kernelspec": {
   "display_name": "env",
   "language": "python",
   "name": "python3"
  },
  "language_info": {
   "codemirror_mode": {
    "name": "ipython",
    "version": 3
   },
   "file_extension": ".py",
   "mimetype": "text/x-python",
   "name": "python",
   "nbconvert_exporter": "python",
   "pygments_lexer": "ipython3",
   "version": "3.9.13"
  }
 },
 "nbformat": 4,
 "nbformat_minor": 2
}
